{
 "cells": [
  {
   "cell_type": "markdown",
   "id": "2d9558b2-b13b-4600-8e36-b183844ff20e",
   "metadata": {},
   "source": [
    "任意選擇整個資料夾(Originaldataset內訓練資料集內的患有/沒有鼻咽癌影像檔C:\\Users\\Rebecca\\Desktop\\Originaldataset\\train\\NPCnoblacksame208)的整個資料夾進行平均濾波5*5、11*11擴增"
   ]
  },
  {
   "cell_type": "code",
   "execution_count": 12,
   "id": "08e10b5d-7084-40f6-a2b4-238d57cbd360",
   "metadata": {},
   "outputs": [
    {
     "name": "stdout",
     "output_type": "stream",
     "text": [
      "Selected images filtered and saved to: C:/Users/Rebecca/Desktop/NoNPCAverageFilter11\n"
     ]
    }
   ],
   "source": [
    "import os\n",
    "import random\n",
    "import shutil\n",
    "import cv2\n",
    "import numpy as np\n",
    "\n",
    "def average_filter(image, kernel_size):\n",
    "    # 进行平均滤波\n",
    "    blurred_image = cv2.blur(image, (kernel_size, kernel_size))\n",
    "    return blurred_image\n",
    "\n",
    "def apply_average_filter_to_images(input_folder, output_folder, num_images_to_select, kernel_size):\n",
    "    # 确保输出文件夹存在，不存在则创建\n",
    "    os.makedirs(output_folder, exist_ok=True)\n",
    "\n",
    "    # 获取输入文件夹中所有图片的路径\n",
    "    image_paths = [os.path.join(input_folder, f) for f in os.listdir(input_folder) if os.path.isfile(os.path.join(input_folder, f))]\n",
    "\n",
    "    # 随机选择指定数量的图片\n",
    "    selected_image_paths = random.sample(image_paths, num_images_to_select)\n",
    "\n",
    "    # 对每张选择的图片应用平均滤波并保存到输出文件夹中\n",
    "    for image_path in selected_image_paths:\n",
    "        # 读取图片\n",
    "        image = cv2.imread(image_path)\n",
    "        \n",
    "        # 应用平均滤波\n",
    "        filtered_image = average_filter(image, kernel_size)\n",
    "        \n",
    "        # 保存滤波后的图片到输出文件夹中\n",
    "        file_name = os.path.basename(image_path)\n",
    "        output_image_path = os.path.join(output_folder, file_name)\n",
    "        cv2.imwrite(output_image_path, filtered_image)\n",
    "\n",
    "    print(\"Selected images filtered and saved to:\", output_folder)\n",
    "\n",
    "# 指定文件夹路径\n",
    "input_folder = \"C:/Users/Rebecca/Desktop/Originaldataset/train/noNPCnoblacksame208\"\n",
    "\n",
    "# 每次执行随机选择的图片数量\n",
    "num_images_to_select = 200\n",
    "\n",
    "# 指定新的文件夹路径\n",
    "output_folder = \"C:/Users/Rebecca/Desktop/NoNPCAverageFilter11\"\n",
    "\n",
    "# 设置核大小（平均滤波的窗口大小）\n",
    "kernel_size = 11\n",
    "\n",
    "# 执行平均滤波并保存图片\n",
    "apply_average_filter_to_images(input_folder, output_folder, num_images_to_select, kernel_size)"
   ]
  },
  {
   "cell_type": "markdown",
   "id": "2c465921-371d-4c1e-b231-2b24cd0bf787",
   "metadata": {},
   "source": [
    "任意選擇整個資料夾(Originaldataset內訓練資料集內的患有/沒有鼻咽癌影像檔C:\\Users\\Rebecca\\Desktop\\Originaldataset\\train\\NPCnoblacksame208)的整個資料夾進行高斯濾波5*5、11*11、21*21擴增"
   ]
  },
  {
   "cell_type": "code",
   "execution_count": 15,
   "id": "b563f27e-3f39-4b83-9568-48c16368c55a",
   "metadata": {},
   "outputs": [
    {
     "name": "stdout",
     "output_type": "stream",
     "text": [
      "Selected images filtered with Gaussian filter and saved to: C:/Users/Rebecca/Desktop/NoNPCGaussianFilter21\n"
     ]
    }
   ],
   "source": [
    "import os\n",
    "import random\n",
    "import shutil\n",
    "import cv2\n",
    "import numpy as np\n",
    "\n",
    "def gaussian_filter(image, kernel_size, sigma):\n",
    "    # 进行高斯滤波\n",
    "    blurred_image = cv2.GaussianBlur(image, (kernel_size, kernel_size), sigma)\n",
    "    return blurred_image\n",
    "\n",
    "def apply_gaussian_filter_to_images(input_folder, output_folder, num_images_to_select, kernel_size, sigma):\n",
    "    # 确保输出文件夹存在，不存在则创建\n",
    "    os.makedirs(output_folder, exist_ok=True)\n",
    "\n",
    "    # 获取输入文件夹中所有图片的路径\n",
    "    image_paths = [os.path.join(input_folder, f) for f in os.listdir(input_folder) if os.path.isfile(os.path.join(input_folder, f))]\n",
    "\n",
    "    # 随机选择指定数量的图片\n",
    "    selected_image_paths = random.sample(image_paths, num_images_to_select)\n",
    "\n",
    "    # 对每张选择的图片应用高斯滤波并保存到输出文件夹中\n",
    "    for image_path in selected_image_paths:\n",
    "        # 读取图片\n",
    "        image = cv2.imread(image_path)\n",
    "        \n",
    "        # 应用高斯滤波\n",
    "        filtered_image = gaussian_filter(image, kernel_size, sigma)\n",
    "        \n",
    "        # 保存滤波后的图片到输出文件夹中\n",
    "        file_name = os.path.basename(image_path)\n",
    "        output_image_path = os.path.join(output_folder, file_name)\n",
    "        cv2.imwrite(output_image_path, filtered_image)\n",
    "\n",
    "    print(\"Selected images filtered with Gaussian filter and saved to:\", output_folder)\n",
    "\n",
    "# 指定文件夹路径\n",
    "input_folder = \"C:/Users/Rebecca/Desktop/Originaldataset/train/noNPCnoblacksame208\"\n",
    "\n",
    "# 每次执行随机选择的图片数量\n",
    "num_images_to_select = 200\n",
    "\n",
    "# 指定新的文件夹路径\n",
    "output_folder = \"C:/Users/Rebecca/Desktop/NoNPCGaussianFilter21\"\n",
    "\n",
    "# 设置核大小（高斯滤波的窗口大小）\n",
    "kernel_size = 21\n",
    "\n",
    "# 设置高斯函数的标准差(chatgpt說範圍是0.5-5間)\n",
    "sigma = 1.5\n",
    "\n",
    "# 执行高斯滤波并保存图片\n",
    "apply_gaussian_filter_to_images(input_folder, output_folder, num_images_to_select, kernel_size, sigma)\n"
   ]
  },
  {
   "cell_type": "markdown",
   "id": "de93071f-a86d-4c8e-a6d3-53e6b5e43370",
   "metadata": {},
   "source": [
    "查看一個資料夾有多少張圖片"
   ]
  },
  {
   "cell_type": "code",
   "execution_count": 19,
   "id": "2104cf03-6d47-4175-9ae4-502a6d897a7a",
   "metadata": {},
   "outputs": [
    {
     "name": "stdout",
     "output_type": "stream",
     "text": [
      "Total number of images in the folder: 1000\n"
     ]
    }
   ],
   "source": [
    "import os\n",
    "\n",
    "def count_images_in_folder(folder_path):\n",
    "    # 遍历文件夹中的所有文件\n",
    "    file_list = os.listdir(folder_path)\n",
    "    \n",
    "    # 初始化计数器\n",
    "    image_count = 0\n",
    "    \n",
    "    # 对于文件夹中的每个文件\n",
    "    for file_name in file_list:\n",
    "        # 如果文件是图像文件，则增加计数器\n",
    "        if file_name.lower().endswith(('.png', '.jpg', '.jpeg', '.bmp', '.gif')):\n",
    "            image_count += 1\n",
    "    \n",
    "    return image_count\n",
    "\n",
    "# 指定要查看的文件夹路径\n",
    "folder_path = \"C:/Users/Rebecca/Desktop/20240409鼻咽癌實驗進度/鼻咽癌第二組資料擴增(濾波)model版/secondtrain/secondNPC1000\"\n",
    "\n",
    "\n",
    "# 调用函数获取图片数量\n",
    "image_count = count_images_in_folder(folder_path)\n",
    "\n",
    "print(\"Total number of images in the folder:\", image_count)"
   ]
  },
  {
   "cell_type": "markdown",
   "id": "57334ff5-5089-4bd0-9282-769af3882265",
   "metadata": {},
   "source": [
    "把多個資料夾合併"
   ]
  },
  {
   "cell_type": "code",
   "execution_count": 17,
   "id": "0cc0de03-bc4a-4c39-9678-b6c6160cdaf2",
   "metadata": {},
   "outputs": [
    {
     "name": "stdout",
     "output_type": "stream",
     "text": [
      "Images merged into: C:/Users/Rebecca/Desktop/secondNoNPC1000\n"
     ]
    }
   ],
   "source": [
    "import os\n",
    "import shutil\n",
    "\n",
    "def merge_folders(input_folders, output_folder):\n",
    "    # 创建输出文件夹\n",
    "    os.makedirs(output_folder, exist_ok=True)\n",
    "    \n",
    "    # 遍历每个输入文件夹\n",
    "    for idx, folder in enumerate(input_folders, start=1):\n",
    "        # 遍历文件夹中的每个文件\n",
    "        for file_name in os.listdir(folder):\n",
    "            file_path = os.path.join(folder, file_name)\n",
    "            output_file_path = os.path.join(output_folder, file_name)\n",
    "            # 如果输出文件夹中已存在同名文件，则重命名并添加后缀\n",
    "            if os.path.exists(output_file_path):\n",
    "                base_name, extension = os.path.splitext(file_name)\n",
    "                new_file_name = f\"{base_name}_{1.5 + 0.3 * idx}{extension}\"\n",
    "                new_file_path = os.path.join(output_folder, new_file_name)\n",
    "                shutil.copy(file_path, new_file_path)\n",
    "            else:\n",
    "                shutil.copy(file_path, output_folder)\n",
    "    \n",
    "    print(\"Images merged into:\", output_folder)\n",
    "\n",
    "# 指定四个输入文件夹的路径\n",
    "input_folders = [\"C:/Users/Rebecca/Desktop/NoNPCAverageFilter5\", \"C:/Users/Rebecca/Desktop/NoNPCAverageFilter11\", \"C:/Users/Rebecca/Desktop/NoNPCGaussianFilter5\", \"C:/Users/Rebecca/Desktop/NoNPCGaussianFilter11\",\"C:/Users/Rebecca/Desktop/NoNPCGaussianFilter21\"]\n",
    "\n",
    "# 指定输出文件夹的路径\n",
    "output_folder = \"C:/Users/Rebecca/Desktop/secondNoNPC1000\"\n",
    "\n",
    "# 合并四个文件夹中的图片到输出文件夹\n",
    "merge_folders(input_folders, output_folder)"
   ]
  },
  {
   "cell_type": "code",
   "execution_count": null,
   "id": "4c45f0ba-47e5-4d62-8689-9beaab29783a",
   "metadata": {},
   "outputs": [],
   "source": []
  }
 ],
 "metadata": {
  "kernelspec": {
   "display_name": "Python 3 (ipykernel)",
   "language": "python",
   "name": "python3"
  },
  "language_info": {
   "codemirror_mode": {
    "name": "ipython",
    "version": 3
   },
   "file_extension": ".py",
   "mimetype": "text/x-python",
   "name": "python",
   "nbconvert_exporter": "python",
   "pygments_lexer": "ipython3",
   "version": "3.10.13"
  }
 },
 "nbformat": 4,
 "nbformat_minor": 5
}
